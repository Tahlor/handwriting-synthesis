{
 "cells": [
  {
   "cell_type": "code",
   "execution_count": 2,
   "metadata": {},
   "outputs": [
    {
     "name": "stdout",
     "output_type": "stream",
     "text": [
      "ittfg! pBis AJo: soE \n",
      "It! tpIItE AHsFxS' BFt iSptH pIETx \n",
      "STS SS JBgxx Si iyiit BtItpS BIfJpt \n",
      "EFftt, sii Tt \n",
      "HKJxt Sig\" tTAFx sisBKt \n",
      "FtyEJ stt igiEip \n",
      "Hti Iti. fti pTFFI giKy' \n",
      "HtT SJEi tTK sBi opAoot\" ttIttF; BK \n",
      "iExFKs isFHF St. TfiIi \n",
      "Ef; pxAii oySy\" \n",
      "AFgEHF txHioy JAgJ. \n",
      "tKoTt tAtETy. tt pio gAgi\" \n"
     ]
    },
    {
     "ename": "NameError",
     "evalue": "name 'stop' is not defined",
     "output_type": "error",
     "traceback": [
      "\u001b[0;31m---------------------------------------------------------------------------\u001b[0m",
      "\u001b[0;31mNameError\u001b[0m                                 Traceback (most recent call last)",
      "\u001b[0;32m<ipython-input-2-95699dae46fb>\u001b[0m in \u001b[0;36m<module>\u001b[0;34m\u001b[0m\n\u001b[1;32m     25\u001b[0m     \u001b[0mprint\u001b[0m\u001b[0;34m(\u001b[0m\u001b[0md\u001b[0m\u001b[0;34m[\u001b[0m\u001b[0;34m\"text\"\u001b[0m\u001b[0;34m]\u001b[0m\u001b[0;34m)\u001b[0m\u001b[0;34m\u001b[0m\u001b[0;34m\u001b[0m\u001b[0m\n\u001b[1;32m     26\u001b[0m     \u001b[0;32mif\u001b[0m \u001b[0mi\u001b[0m \u001b[0;34m>\u001b[0m \u001b[0;36m10\u001b[0m\u001b[0;34m:\u001b[0m\u001b[0;34m\u001b[0m\u001b[0;34m\u001b[0m\u001b[0m\n\u001b[0;32m---> 27\u001b[0;31m         \u001b[0mstop\u001b[0m\u001b[0;34m\u001b[0m\u001b[0;34m\u001b[0m\u001b[0m\n\u001b[0m\u001b[1;32m     28\u001b[0m \u001b[0;34m\u001b[0m\u001b[0m\n",
      "\u001b[0;31mNameError\u001b[0m: name 'stop' is not defined"
     ]
    }
   ],
   "source": [
    "from matplotlib import pyplot as plt\n",
    "import json\n",
    "from pathlib import Path\n",
    "import numpy as np\n",
    "\n",
    "import sys\n",
    "sys.path.append(\"../simple_hwr\")\n",
    "from hwr_utils import stroke_plotting\n",
    "path = Path(\"/media/data/GitHub/simple_hwr/data/synthetic_online/boosted/train_synth_random_0.json\")\n",
    "\n",
    "data = json.load(path.open(\"rb\"))\n",
    "\n",
    "for i,d in enumerate(data):\n",
    "    strokes = np.array(d[\"stroke\"])\n",
    "\n",
    "    strokes[:,1] -= np.min(strokes[:,1])\n",
    "    strokes[:,:2] /= np.max(strokes[:,1])\n",
    "    strokes[1:,2] = strokes[:-1,2]\n",
    "\n",
    "    #plt.plot(strokes[:,0], strokes[:,1])\n",
    "\n",
    "    stroke_plotting.draw_from_gt(strokes, show=True, use_stroke_number=False)\n",
    "    #plt.figure(dpi=200)\n",
    "    #plt.imshow(x)\n",
    "    print(d[\"text\"])\n",
    "    if i > 10:\n",
    "        stop\n",
    "        "
   ]
  },
  {
   "cell_type": "code",
   "execution_count": 5,
   "metadata": {},
   "outputs": [
    {
     "data": {
      "text/plain": [
       "array([2. , 1.8, 1.6, 1.4, 1.2, 1. , 0.8, 0.6, 0.4, 0.2])"
      ]
     },
     "execution_count": 5,
     "metadata": {},
     "output_type": "execute_result"
    }
   ],
   "source": [
    "lines = list(range(10))\n",
    ".2*np.flip(np.cumsum([1 for i in lines]), 0)"
   ]
  },
  {
   "cell_type": "code",
   "execution_count": 6,
   "metadata": {},
   "outputs": [
    {
     "data": {
      "text/plain": [
       "[0.10476218639088342,\n",
       " 0.771909958220989,\n",
       " 0.11844193897010458,\n",
       " 0.512111910219515,\n",
       " 0.47910482658847264]"
      ]
     },
     "execution_count": 6,
     "metadata": {},
     "output_type": "execute_result"
    }
   ],
   "source": [
    "list(np.random.rand(5))"
   ]
  },
  {
   "cell_type": "code",
   "execution_count": null,
   "metadata": {},
   "outputs": [],
   "source": []
  }
 ],
 "metadata": {
  "kernelspec": {
   "display_name": "hwr5",
   "language": "python",
   "name": "hwr5"
  },
  "language_info": {
   "codemirror_mode": {
    "name": "ipython",
    "version": 3
   },
   "file_extension": ".py",
   "mimetype": "text/x-python",
   "name": "python",
   "nbconvert_exporter": "python",
   "pygments_lexer": "ipython3",
   "version": "3.8.1"
  }
 },
 "nbformat": 4,
 "nbformat_minor": 2
}

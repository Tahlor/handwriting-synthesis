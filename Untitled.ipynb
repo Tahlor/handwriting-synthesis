{
 "cells": [
  {
   "cell_type": "code",
   "execution_count": 2,
   "metadata": {},
   "outputs": [],
   "source": [
    "%reload_ext autoreload\n",
    "%autoreload 2\n",
    "%matplotlib inline\n",
    "\n",
    "import sys\n",
    "#sys.path.append(\"../../\")\n",
    "#sys.path.append(\"../\")\n",
    "import os\n",
    "import numpy as np\n",
    "import json\n",
    "from matplotlib import pyplot as plt\n",
    "from prepare_data import *\n",
    "import prepare_synth_data\n"
   ]
  },
  {
   "cell_type": "code",
   "execution_count": 36,
   "metadata": {},
   "outputs": [
    {
     "name": "stdout",
     "output_type": "stream",
     "text": [
      "traversing data directory...\n",
      "0 data/raw/ascii/a01/a01-000/a01-000u.txt\n",
      "1 data/raw/ascii/a01/a01-000/a01-000x.txt\n",
      "2 data/raw/ascii/a01/a01-001/a01-001w.txt\n",
      "3 data/raw/ascii/a01/a01-001/a01-001z.txt\n",
      "4 data/raw/ascii/a01/a01-003/a01-003.txt\n",
      "5 data/raw/ascii/a01/a01-003/a01-003x.txt\n",
      "6 data/raw/ascii/a01/a01-004/a01-004.txt\n",
      "7 data/raw/ascii/a01/a01-004/a01-004w.txt\n",
      "8 data/raw/ascii/a01/a01-007/a01-007.txt\n",
      "9 data/raw/ascii/a01/a01-007/a01-007w.txt\n",
      "10 data/raw/ascii/a01/a01-007/a01-007z.txt\n",
      "11 data/raw/ascii/a01/a01-009/a01-009w.txt\n",
      "12 data/raw/ascii/a01/a01-009/a01-009z.txt\n",
      "13 data/raw/ascii/a01/a01-011/a01-011.txt\n",
      "14 data/raw/ascii/a01/a01-011/a01-011x.txt\n",
      "15 data/raw/ascii/a01/a01-013/a01-013w.txt\n",
      "16 data/raw/ascii/a01/a01-013/a01-013z.txt\n",
      "17 data/raw/ascii/a01/a01-014/a01-014.txt\n",
      "18 data/raw/ascii/a01/a01-014/a01-014x.txt\n",
      "19 data/raw/ascii/a01/a01-017/a01-017w.txt\n",
      "20 data/raw/ascii/a01/a01-017/a01-017z.txt\n",
      "21 data/raw/ascii/a01/a01-020/a01-020.txt\n",
      "22 data/raw/ascii/a01/a01-020/a01-020w.txt\n",
      "23 data/raw/ascii/a01/a01-020/a01-020x.txt\n",
      "24 data/raw/ascii/a01/a01-020/a01-020z.txt\n",
      "25 data/raw/ascii/a01/a01-023/a01-023w.txt\n",
      "26 data/raw/ascii/a01/a01-023/a01-023z.txt\n",
      "27 data/raw/ascii/a01/a01-030/a01-030z.txt\n",
      "28 data/raw/ascii/a01/a01-037/a01-037z.txt\n",
      "29 data/raw/ascii/a01/a01-038/a01-038x.txt\n",
      "30 data/raw/ascii/a01/a01-048/a01-048z.txt\n",
      "31 data/raw/ascii/a01/a01-053/a01-053.txt\n",
      "32 data/raw/ascii/a01/a01-053/a01-053a.txt\n",
      "33 data/raw/ascii/a01/a01-053/a01-053x.txt\n",
      "34 data/raw/ascii/a01/a01-053/a01-053z.txt\n",
      "35 data/raw/ascii/a01/a01-058/a01-058z.txt\n",
      "36 data/raw/ascii/a01/a01-063/a01-063x.txt\n",
      "37 data/raw/ascii/a01/a01-067/a01-067z.txt\n",
      "38 data/raw/ascii/a01/a01-073/a01-073z.txt\n",
      "39 data/raw/ascii/a01/a01-077/a01-077.txt\n",
      "40 data/raw/ascii/a01/a01-080/a01-080z.txt\n",
      "41 data/raw/ascii/a01/a01-087/a01-087.txt\n",
      "42 data/raw/ascii/a01/a01-090/a01-090z.txt\n",
      "43 data/raw/ascii/a01/a01-094/a01-094z.txt\n",
      "44 data/raw/ascii/a01/a01-099/a01-099z.txt\n",
      "45 data/raw/ascii/a01/a01-107/a01-107.txt\n",
      "46 data/raw/ascii/a01/a01-117/a01-117.txt\n",
      "47 data/raw/ascii/a01/a01-132/a01-132.txt\n",
      "48 data/raw/ascii/a02/a02-000/a02-000.txt\n",
      "49 data/raw/ascii/a02/a02-004/a02-004.txt\n",
      "50 data/raw/ascii/a02/a02-008/a02-008.txt\n",
      "51 data/raw/ascii/a02/a02-012/a02-012.txt\n",
      "52 data/raw/ascii/a02/a02-017/a02-017.txt\n",
      "53 data/raw/ascii/a02/a02-037/a02-037.txt\n",
      "54 data/raw/ascii/a02/a02-046/a02-046.txt\n",
      "55 data/raw/ascii/a02/a02-050/a02-050.txt\n",
      "56 data/raw/ascii/a02/a02-057/a02-057.txt\n",
      "57 data/raw/ascii/a02/a02-062/a02-062.txt\n",
      "58 data/raw/ascii/a02/a02-062/a02-062a.txt\n",
      "59 data/raw/ascii/a02/a02-067/a02-067.txt\n",
      "60 data/raw/ascii/a02/a02-072/a02-072.txt\n",
      "61 data/raw/ascii/a02/a02-082/a02-082.txt\n",
      "62 data/raw/ascii/a02/a02-086/a02-086.txt\n",
      "63 data/raw/ascii/a02/a02-102/a02-102.txt\n",
      "64 data/raw/ascii/a02/a02-108/a02-108z.txt\n",
      "65 data/raw/ascii/a02/a02-113/a02-113z.txt\n",
      "66 data/raw/ascii/a02/a02-118/a02-118z.txt\n",
      "67 data/raw/ascii/a02/a02-120/a02-120.txt\n",
      "68 data/raw/ascii/a02/a02-120/a02-120a.txt\n",
      "69 data/raw/ascii/a02/a02-125/a02-125z.txt\n",
      "70 data/raw/ascii/a02/a02-130/a02-130z.txt\n",
      "71 data/raw/ascii/a02/a02-135/a02-135z.txt\n",
      "72 data/raw/ascii/a02/a02-145/a02-145z.txt\n",
      "73 data/raw/ascii/a02/a02-152/a02-152z.txt\n",
      "74 data/raw/ascii/a02/a02-158/a02-158z.txt\n",
      "75 data/raw/ascii/a02/a02-166/a02-166z.txt\n",
      "76 data/raw/ascii/a02/a02-171/a02-171z.txt\n",
      "77 data/raw/ascii/a02/a02-178/a02-178z.txt\n",
      "78 data/raw/ascii/a03/a03-009/a03-009.txt\n",
      "79 data/raw/ascii/a03/a03-011/a03-011.txt\n",
      "80 data/raw/ascii/a03/a03-014/a03-014.txt\n",
      "81 data/raw/ascii/a03/a03-017/a03-017.txt\n",
      "82 data/raw/ascii/a03/a03-020/a03-020.txt\n",
      "83 data/raw/ascii/a03/a03-023/a03-023.txt\n",
      "84 data/raw/ascii/a03/a03-027/a03-027.txt\n",
      "85 data/raw/ascii/a03/a03-030/a03-030.txt\n",
      "86 data/raw/ascii/a03/a03-037/a03-037.txt\n",
      "87 data/raw/ascii/a03/a03-040/a03-040.txt\n",
      "88 data/raw/ascii/a03/a03-054/a03-054.txt\n",
      "89 data/raw/ascii/a03/a03-059/a03-059.txt\n",
      "90 data/raw/ascii/a03/a03-063/a03-063.txt\n",
      "91 data/raw/ascii/a03/a03-066/a03-066.txt\n",
      "92 data/raw/ascii/a03/a03-068/a03-068.txt\n",
      "93 data/raw/ascii/a03/a03-193/a03-193z.txt\n",
      "94 data/raw/ascii/a03/a03-200/a03-200z.txt\n",
      "95 data/raw/ascii/a03/a03-206/a03-206z.txt\n",
      "96 data/raw/ascii/a03/a03-218/a03-218z.txt\n",
      "dumping to numpy arrays...\n",
      "0 \t / 431\n",
      "median 22.528855510892058\n"
     ]
    },
    {
     "ename": "NameError",
     "evalue": "name 'stop' is not defined",
     "output_type": "error",
     "traceback": [
      "\u001b[0;31m---------------------------------------------------------------------------\u001b[0m",
      "\u001b[0;31mNameError\u001b[0m                                 Traceback (most recent call last)",
      "\u001b[0;32m<ipython-input-36-e22c983d74e6>\u001b[0m in \u001b[0;36m<module>\u001b[0;34m\u001b[0m\n\u001b[1;32m     13\u001b[0m     \u001b[0;32mif\u001b[0m \u001b[0mi\u001b[0m \u001b[0;34m%\u001b[0m \u001b[0;36m200\u001b[0m \u001b[0;34m==\u001b[0m \u001b[0;36m0\u001b[0m\u001b[0;34m:\u001b[0m\u001b[0;34m\u001b[0m\u001b[0;34m\u001b[0m\u001b[0m\n\u001b[1;32m     14\u001b[0m         \u001b[0mprint\u001b[0m\u001b[0;34m(\u001b[0m\u001b[0mi\u001b[0m\u001b[0;34m,\u001b[0m \u001b[0;34m'\\t'\u001b[0m\u001b[0;34m,\u001b[0m \u001b[0;34m'/'\u001b[0m\u001b[0;34m,\u001b[0m \u001b[0mlen\u001b[0m\u001b[0;34m(\u001b[0m\u001b[0mstroke_fnames\u001b[0m\u001b[0;34m)\u001b[0m\u001b[0;34m)\u001b[0m\u001b[0;34m\u001b[0m\u001b[0;34m\u001b[0m\u001b[0m\n\u001b[0;32m---> 15\u001b[0;31m     \u001b[0mcoords\u001b[0m\u001b[0;34m,\u001b[0m \u001b[0mx_i\u001b[0m \u001b[0;34m=\u001b[0m \u001b[0mget_stroke_sequence\u001b[0m\u001b[0;34m(\u001b[0m\u001b[0mstroke_fname\u001b[0m\u001b[0;34m)\u001b[0m\u001b[0;34m\u001b[0m\u001b[0;34m\u001b[0m\u001b[0m\n\u001b[0m\u001b[1;32m     16\u001b[0m     \u001b[0mstop\u001b[0m\u001b[0;34m\u001b[0m\u001b[0;34m\u001b[0m\u001b[0m\n\u001b[1;32m     17\u001b[0m     \u001b[0mvalid_mask\u001b[0m\u001b[0;34m[\u001b[0m\u001b[0mi\u001b[0m\u001b[0;34m]\u001b[0m \u001b[0;34m=\u001b[0m \u001b[0;34m~\u001b[0m\u001b[0mnp\u001b[0m\u001b[0;34m.\u001b[0m\u001b[0many\u001b[0m\u001b[0;34m(\u001b[0m\u001b[0mnp\u001b[0m\u001b[0;34m.\u001b[0m\u001b[0mlinalg\u001b[0m\u001b[0;34m.\u001b[0m\u001b[0mnorm\u001b[0m\u001b[0;34m(\u001b[0m\u001b[0mx_i\u001b[0m\u001b[0;34m[\u001b[0m\u001b[0;34m:\u001b[0m\u001b[0;34m,\u001b[0m \u001b[0;34m:\u001b[0m\u001b[0;36m2\u001b[0m\u001b[0;34m]\u001b[0m\u001b[0;34m,\u001b[0m \u001b[0maxis\u001b[0m\u001b[0;34m=\u001b[0m\u001b[0;36m1\u001b[0m\u001b[0;34m)\u001b[0m \u001b[0;34m>\u001b[0m \u001b[0;36m60\u001b[0m\u001b[0;34m)\u001b[0m\u001b[0;34m\u001b[0m\u001b[0;34m\u001b[0m\u001b[0m\n",
      "\u001b[0;32m/media/taylor/Data/Linux/Github/handwriting-synthesis/prepare_data.py\u001b[0m in \u001b[0;36mget_stroke_sequence\u001b[0;34m(filename)\u001b[0m\n\u001b[1;32m     26\u001b[0m     \u001b[0moffsets\u001b[0m \u001b[0;34m=\u001b[0m \u001b[0mdrawing\u001b[0m\u001b[0;34m.\u001b[0m\u001b[0mcoords_to_offsets\u001b[0m\u001b[0;34m(\u001b[0m\u001b[0mcoords\u001b[0m\u001b[0;34m)\u001b[0m\u001b[0;34m\u001b[0m\u001b[0;34m\u001b[0m\u001b[0m\n\u001b[1;32m     27\u001b[0m     \u001b[0moffsets\u001b[0m \u001b[0;34m=\u001b[0m \u001b[0moffsets\u001b[0m\u001b[0;34m[\u001b[0m\u001b[0;34m:\u001b[0m\u001b[0mdrawing\u001b[0m\u001b[0;34m.\u001b[0m\u001b[0mMAX_STROKE_LEN\u001b[0m\u001b[0;34m]\u001b[0m\u001b[0;34m\u001b[0m\u001b[0;34m\u001b[0m\u001b[0m\n\u001b[0;32m---> 28\u001b[0;31m     \u001b[0moffsets\u001b[0m \u001b[0;34m=\u001b[0m \u001b[0mdrawing\u001b[0m\u001b[0;34m.\u001b[0m\u001b[0mnormalize\u001b[0m\u001b[0;34m(\u001b[0m\u001b[0moffsets\u001b[0m\u001b[0;34m)\u001b[0m\u001b[0;34m\u001b[0m\u001b[0;34m\u001b[0m\u001b[0m\n\u001b[0m\u001b[1;32m     29\u001b[0m \u001b[0;34m\u001b[0m\u001b[0m\n\u001b[1;32m     30\u001b[0m     \u001b[0;32mreturn\u001b[0m \u001b[0mcoords\u001b[0m\u001b[0;34m,\u001b[0m \u001b[0moffsets\u001b[0m\u001b[0;34m\u001b[0m\u001b[0;34m\u001b[0m\u001b[0m\n",
      "\u001b[0;32m/media/taylor/Data/Linux/Github/handwriting-synthesis/drawing.py\u001b[0m in \u001b[0;36mnormalize\u001b[0;34m(offsets)\u001b[0m\n\u001b[1;32m    137\u001b[0m     \u001b[0moffsets\u001b[0m\u001b[0;34m[\u001b[0m\u001b[0;34m:\u001b[0m\u001b[0;34m,\u001b[0m \u001b[0;34m:\u001b[0m\u001b[0;36m2\u001b[0m\u001b[0;34m]\u001b[0m \u001b[0;34m/=\u001b[0m \u001b[0mmedian\u001b[0m\u001b[0;34m\u001b[0m\u001b[0;34m\u001b[0m\u001b[0m\n\u001b[1;32m    138\u001b[0m     \u001b[0mprint\u001b[0m\u001b[0;34m(\u001b[0m\u001b[0;34m\"median\"\u001b[0m\u001b[0;34m,\u001b[0m \u001b[0mmedian\u001b[0m\u001b[0;34m)\u001b[0m\u001b[0;34m\u001b[0m\u001b[0;34m\u001b[0m\u001b[0m\n\u001b[0;32m--> 139\u001b[0;31m     \u001b[0mstop\u001b[0m\u001b[0;34m\u001b[0m\u001b[0;34m\u001b[0m\u001b[0m\n\u001b[0m\u001b[1;32m    140\u001b[0m     \u001b[0;32mreturn\u001b[0m \u001b[0moffsets\u001b[0m\u001b[0;34m\u001b[0m\u001b[0;34m\u001b[0m\u001b[0m\n\u001b[1;32m    141\u001b[0m \u001b[0;34m\u001b[0m\u001b[0m\n",
      "\u001b[0;31mNameError\u001b[0m: name 'stop' is not defined"
     ]
    }
   ],
   "source": [
    "print('traversing data directory...')\n",
    "stroke_fnames, transcriptions, writer_ids = collect_data()\n",
    "\n",
    "print('dumping to numpy arrays...')\n",
    "x = np.zeros([len(stroke_fnames), drawing.MAX_STROKE_LEN, 3], dtype=np.float32)\n",
    "x_len = np.zeros([len(stroke_fnames)], dtype=np.int16)\n",
    "c = np.zeros([len(stroke_fnames), drawing.MAX_CHAR_LEN], dtype=np.int8)\n",
    "c_len = np.zeros([len(stroke_fnames)], dtype=np.int8)\n",
    "w_id = np.zeros([len(stroke_fnames)], dtype=np.int16)\n",
    "valid_mask = np.zeros([len(stroke_fnames)], dtype=np.bool)\n",
    "\n",
    "for i, (stroke_fname, c_i, w_id_i) in enumerate(zip(stroke_fnames, transcriptions, writer_ids)):\n",
    "    if i % 200 == 0:\n",
    "        print(i, '\\t', '/', len(stroke_fnames))\n",
    "    coords, x_i = get_stroke_sequence(stroke_fname)\n",
    "    stop\n",
    "    valid_mask[i] = ~np.any(np.linalg.norm(x_i[:, :2], axis=1) > 60)\n",
    "\n",
    "    x[i, :len(x_i), :] = x_i\n",
    "    x_len[i] = len(x_i)\n",
    "\n",
    "    c[i, :len(c_i)] = c_i\n",
    "    c_len[i] = len(c_i)\n",
    "\n",
    "    w_id[i] = w_id_i\n",
    "\n",
    "if not os.path.isdir('data/processed'):\n",
    "    os.makedirs('data/processed')\n",
    "\n",
    "np.save('data/processed/x.npy', x[valid_mask])\n",
    "np.save('data/processed/x_len.npy', x_len[valid_mask])\n",
    "np.save('data/processed/c.npy', c[valid_mask])\n",
    "np.save('data/processed/c_len.npy', c_len[valid_mask])\n",
    "np.save('data/processed/w_id.npy', w_id[valid_mask])\n"
   ]
  },
  {
   "cell_type": "code",
   "execution_count": 37,
   "metadata": {},
   "outputs": [],
   "source": [
    "x2 = x_i.copy()\n",
    "x2[:,:2] = np.cumsum(x_i[:,:2], axis=0)"
   ]
  },
  {
   "cell_type": "code",
   "execution_count": 28,
   "metadata": {},
   "outputs": [
    {
     "data": {
      "image/png": "[encoded data removed]",
      "text/plain": [
       "<Figure size 600x400 with 1 Axes>"
      ]
     },
     "metadata": {
      "needs_background": "light"
     },
     "output_type": "display_data"
    }
   ],
   "source": [
    "#plt.scatter(x_i[:,0], x_i[:,1])\n",
    "\n",
    "\n",
    "plt.figure(dpi=100)\n",
    "plt.axis('off')\n",
    "#plt.axis('square')\n",
    "\n",
    "plt.scatter(coords[:,0], coords[:,1])\n",
    "plt.show()"
   ]
  },
  {
   "cell_type": "code",
   "execution_count": 38,
   "metadata": {},
   "outputs": [
    {
     "data": {
      "text/plain": [
       "array([[ 0.00000000e+00,  0.00000000e+00,  1.00000000e+00],\n",
       "       [-1.16253026e-01, -8.39135477e-01,  0.00000000e+00],\n",
       "       [-4.84035325e-01, -2.16864735e+00,  0.00000000e+00],\n",
       "       ...,\n",
       "       [ 2.39944131e+02, -1.14942537e+01,  0.00000000e+00],\n",
       "       [ 2.40028679e+02, -1.17838294e+01,  0.00000000e+00],\n",
       "       [ 2.40073067e+02, -1.18028526e+01,  1.00000000e+00]])"
      ]
     },
     "execution_count": 38,
     "metadata": {},
     "output_type": "execute_result"
    }
   ],
   "source": [
    "x2"
   ]
  },
  {
   "cell_type": "code",
   "execution_count": 14,
   "metadata": {},
   "outputs": [
    {
     "data": {
      "text/plain": [
       "array([[ 0.        ,  0.        ,  1.        ],\n",
       "       [-0.11625303, -0.83913548,  0.        ],\n",
       "       [-0.3677823 , -1.32951188,  0.        ],\n",
       "       ...,\n",
       "       [ 0.0253643 , -0.91734206,  0.        ],\n",
       "       [ 0.08454766, -0.28957572,  0.        ],\n",
       "       [ 0.04438752, -0.01902322,  1.        ]])"
      ]
     },
     "execution_count": 14,
     "metadata": {},
     "output_type": "execute_result"
    }
   ],
   "source": [
    "x_i"
   ]
  },
  {
   "cell_type": "code",
   "execution_count": 29,
   "metadata": {},
   "outputs": [
    {
     "data": {
      "text/plain": [
       "array([[ 2.24242857e+03,  1.04714286e+02,  0.00000000e+00],\n",
       "       [ 2.23980952e+03,  8.58095238e+01,  0.00000000e+00],\n",
       "       [ 2.23152381e+03,  5.58571429e+01,  0.00000000e+00],\n",
       "       ...,\n",
       "       [ 7.64809524e+03, -1.54238095e+02,  0.00000000e+00],\n",
       "       [ 7.65000000e+03, -1.60761905e+02,  0.00000000e+00],\n",
       "       [ 7.65100000e+03, -1.61190476e+02,  1.00000000e+00]])"
      ]
     },
     "execution_count": 29,
     "metadata": {},
     "output_type": "execute_result"
    }
   ],
   "source": [
    "coords"
   ]
  },
  {
   "cell_type": "code",
   "execution_count": 55,
   "metadata": {},
   "outputs": [
    {
     "data": {
      "text/plain": [
       "[<matplotlib.lines.Line2D at 0x7fbd0ce5f4a8>]"
      ]
     },
     "execution_count": 55,
     "metadata": {},
     "output_type": "execute_result"
    },
    {
     "data": {
      "image/png": "[encoded data removed]",
      "text/plain": [
       "<Figure size 432x288 with 1 Axes>"
      ]
     },
     "metadata": {
      "needs_background": "light"
     },
     "output_type": "display_data"
    }
   ],
   "source": [
    "plt.axis('equal')\n",
    "plt.plot(x2[:,0]*22, x2[:,1]*22)\n"
   ]
  },
  {
   "cell_type": "code",
   "execution_count": 41,
   "metadata": {},
   "outputs": [],
   "source": [
    "x= np.array([1,2,3])"
   ]
  },
  {
   "cell_type": "code",
   "execution_count": 43,
   "metadata": {},
   "outputs": [
    {
     "data": {
      "text/plain": [
       "array([3])"
      ]
     },
     "execution_count": 43,
     "metadata": {},
     "output_type": "execute_result"
    }
   ],
   "source": [
    "\n",
    "x[2:3]"
   ]
  },
  {
   "cell_type": "code",
   "execution_count": 49,
   "metadata": {},
   "outputs": [],
   "source": [
    "DATA = \"archidata/0.npy\"\n",
    "\n",
    "data = prepare_synth_data.load_data(DATA)\n",
    "strokes, chars = prepare_synth_data.process_data(data)\n",
    "\n",
    "x = np.zeros([len(strokes), drawing.MAX_STROKE_LEN, 3], dtype=np.float32)\n",
    "x_len = np.zeros([len(strokes)], dtype=np.int16)\n",
    "c = np.zeros([len(strokes), drawing.MAX_CHAR_LEN], dtype=np.int8)\n",
    "c_len = np.zeros([len(strokes)], dtype=np.int8)\n",
    "\n",
    "for i, (stroke, char) in enumerate(zip(strokes, chars)):\n",
    "    x[i, :len(stroke), :] = stroke\n",
    "    x_len[i] = len(stroke)\n",
    "\n",
    "    c[i, :len(char)] = char\n",
    "    c_len[i] = len(char)\n"
   ]
  },
  {
   "cell_type": "code",
   "execution_count": 54,
   "metadata": {},
   "outputs": [
    {
     "data": {
      "text/plain": [
       "[<matplotlib.lines.Line2D at 0x7fbd0cdb74e0>]"
      ]
     },
     "execution_count": 54,
     "metadata": {},
     "output_type": "execute_result"
    },
    {
     "data": {
      "image/png": "[encoded data removed]",
      "text/plain": [
       "<Figure size 432x288 with 1 Axes>"
      ]
     },
     "metadata": {
      "needs_background": "light"
     },
     "output_type": "display_data"
    }
   ],
   "source": [
    "stroke_abs = np.cumsum(stroke[:,:2], axis=0)\n",
    "plt.axis('equal')\n",
    "plt.plot(stroke_abs[:,0], stroke_abs[:,1])"
   ]
  },
  {
   "cell_type": "code",
   "execution_count": null,
   "metadata": {},
   "outputs": [],
   "source": []
  }
 ],
 "metadata": {
  "kernelspec": {
   "display_name": "tf16",
   "language": "python",
   "name": "tf16"
  },
  "language_info": {
   "codemirror_mode": {
    "name": "ipython",
    "version": 3
   },
   "file_extension": ".py",
   "mimetype": "text/x-python",
   "name": "python",
   "nbconvert_exporter": "python",
   "pygments_lexer": "ipython3",
   "version": "3.6.10"
  }
 },
 "nbformat": 4,
 "nbformat_minor": 2
}
